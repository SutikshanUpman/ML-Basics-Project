{
 "cells": [
  {
   "cell_type": "code",
   "execution_count": 33,
   "id": "09ef4d93",
   "metadata": {},
   "outputs": [
    {
     "name": "stdout",
     "output_type": "stream",
     "text": [
      "Using device: cuda\n",
      "GPU name: NVIDIA GeForce RTX 4060 Laptop GPU\n"
     ]
    }
   ],
   "source": [
    "import torch\n",
    "\n",
    "# Check if GPU is available and set device\n",
    "device = torch.device('cuda' if torch.cuda.is_available() else 'cpu')\n",
    "print(f\"Using device: {device}\")\n",
    "print(f\"GPU name: {torch.cuda.get_device_name(0)}\")"
   ]
  },
  {
   "cell_type": "code",
   "execution_count": 34,
   "id": "53e27634-b26d-4d20-ad26-a6b3be41e778",
   "metadata": {},
   "outputs": [
    {
     "name": "stdout",
     "output_type": "stream",
     "text": [
      "Requirement already satisfied: h5py in c:\\users\\upman\\appdata\\local\\programs\\python\\python310\\lib\\site-packages (3.14.0)\n",
      "Requirement already satisfied: numpy>=1.19.3 in c:\\users\\upman\\appdata\\local\\programs\\python\\python310\\lib\\site-packages (from h5py) (2.1.2)\n",
      "Note: you may need to restart the kernel to use updated packages.\n"
     ]
    }
   ],
   "source": [
    "pip install h5py"
   ]
  },
  {
   "cell_type": "code",
   "execution_count": 35,
   "id": "4a3248e6-a0e8-428d-ae9a-9c63c5609b16",
   "metadata": {},
   "outputs": [
    {
     "name": "stdout",
     "output_type": "stream",
     "text": [
      "Available keys inside file: ['28079001', '28079003', '28079004', '28079006', '28079007', '28079008', '28079009', '28079011', '28079012', '28079014', '28079015', '28079016', '28079017', '28079018', '28079019', '28079021', '28079022', '28079023', '28079024', '28079025', '28079026', '28079027', '28079035', '28079036', '28079038', '28079039', '28079040', '28079047', '28079048', '28079049', '28079050', '28079054', '28079055', '28079056', '28079057', '28079058', '28079059', '28079060', '28079099', 'master']\n",
      "                     BEN    CO  EBE  NMHC  NO       NO_2    NOx        O_3  \\\n",
      "date                                                                         \n",
      "2001-08-01 01:00:00  NaN  0.17  NaN  0.06 NaN  28.980000  31.48  48.290001   \n",
      "2001-08-01 02:00:00  NaN  0.14  NaN  0.06 NaN  26.959999  28.83  49.310001   \n",
      "2001-08-01 03:00:00  NaN  0.15  NaN  0.04 NaN  25.350000  26.84  50.759998   \n",
      "2001-08-01 04:00:00  NaN  0.16  NaN  0.04 NaN  24.440001  26.01  52.459999   \n",
      "2001-08-01 05:00:00  NaN  0.19  NaN  0.04 NaN  26.030001  27.60  55.540001   \n",
      "\n",
      "                           PM10  SO_2   TCH  TOL  \n",
      "date                                              \n",
      "2001-08-01 01:00:00  137.699997  7.73  1.38  NaN  \n",
      "2001-08-01 02:00:00   91.430000  7.64  1.36  NaN  \n",
      "2001-08-01 03:00:00   62.320000  7.74  1.39  NaN  \n",
      "2001-08-01 04:00:00   55.009998  7.71  1.36  NaN  \n",
      "2001-08-01 05:00:00   58.830002  7.83  1.36  NaN  \n"
     ]
    }
   ],
   "source": [
    "import h5py\n",
    "import pandas as pd\n",
    "\n",
    "# ---- Step 1: check what keys are inside the HDF5 file ----\n",
    "file_path = r\"X:\\Study\\Projects\\ML-Basics-Project\\data\\madrid.h5\"\n",
    "\n",
    "with h5py.File(file_path, \"r\") as f:\n",
    "    print(\"Available keys inside file:\", list(f.keys()))\n",
    "\n",
    "# ---- Step 2: try loading one key with pandas ----\n",
    "# Replace 'your_key_here' with one of the keys printed above\n",
    "try:\n",
    "    df = pd.read_hdf(file_path, key=\"28079018\")\n",
    "    print(df.head())\n",
    "except Exception as e:\n",
    "    print(\"Error while loading with pandas:\", e)"
   ]
  },
  {
   "cell_type": "code",
   "execution_count": 36,
   "id": "b9d412fc",
   "metadata": {},
   "outputs": [
    {
     "name": "stdout",
     "output_type": "stream",
     "text": [
      "(149760, 12)\n"
     ]
    },
    {
     "data": {
      "text/html": [
       "<div>\n",
       "<style scoped>\n",
       "    .dataframe tbody tr th:only-of-type {\n",
       "        vertical-align: middle;\n",
       "    }\n",
       "\n",
       "    .dataframe tbody tr th {\n",
       "        vertical-align: top;\n",
       "    }\n",
       "\n",
       "    .dataframe thead th {\n",
       "        text-align: right;\n",
       "    }\n",
       "</style>\n",
       "<table border=\"1\" class=\"dataframe\">\n",
       "  <thead>\n",
       "    <tr style=\"text-align: right;\">\n",
       "      <th></th>\n",
       "      <th>BEN</th>\n",
       "      <th>CO</th>\n",
       "      <th>EBE</th>\n",
       "      <th>NMHC</th>\n",
       "      <th>NO</th>\n",
       "      <th>NO_2</th>\n",
       "      <th>NOx</th>\n",
       "      <th>O_3</th>\n",
       "      <th>PM10</th>\n",
       "      <th>SO_2</th>\n",
       "      <th>TCH</th>\n",
       "      <th>TOL</th>\n",
       "    </tr>\n",
       "    <tr>\n",
       "      <th>date</th>\n",
       "      <th></th>\n",
       "      <th></th>\n",
       "      <th></th>\n",
       "      <th></th>\n",
       "      <th></th>\n",
       "      <th></th>\n",
       "      <th></th>\n",
       "      <th></th>\n",
       "      <th></th>\n",
       "      <th></th>\n",
       "      <th></th>\n",
       "      <th></th>\n",
       "    </tr>\n",
       "  </thead>\n",
       "  <tbody>\n",
       "    <tr>\n",
       "      <th>2003-07-21 08:00:00</th>\n",
       "      <td>NaN</td>\n",
       "      <td>0.88</td>\n",
       "      <td>NaN</td>\n",
       "      <td>0.24</td>\n",
       "      <td>NaN</td>\n",
       "      <td>60.160000</td>\n",
       "      <td>103.800003</td>\n",
       "      <td>6.910000</td>\n",
       "      <td>48.490002</td>\n",
       "      <td>13.79</td>\n",
       "      <td>1.65</td>\n",
       "      <td>NaN</td>\n",
       "    </tr>\n",
       "    <tr>\n",
       "      <th>2009-10-06 02:00:00</th>\n",
       "      <td>NaN</td>\n",
       "      <td>NaN</td>\n",
       "      <td>NaN</td>\n",
       "      <td>NaN</td>\n",
       "      <td>NaN</td>\n",
       "      <td>NaN</td>\n",
       "      <td>NaN</td>\n",
       "      <td>NaN</td>\n",
       "      <td>NaN</td>\n",
       "      <td>NaN</td>\n",
       "      <td>NaN</td>\n",
       "      <td>NaN</td>\n",
       "    </tr>\n",
       "    <tr>\n",
       "      <th>2008-09-17 08:00:00</th>\n",
       "      <td>NaN</td>\n",
       "      <td>0.72</td>\n",
       "      <td>NaN</td>\n",
       "      <td>NaN</td>\n",
       "      <td>NaN</td>\n",
       "      <td>67.129997</td>\n",
       "      <td>127.199997</td>\n",
       "      <td>5.710000</td>\n",
       "      <td>43.869999</td>\n",
       "      <td>8.34</td>\n",
       "      <td>NaN</td>\n",
       "      <td>NaN</td>\n",
       "    </tr>\n",
       "    <tr>\n",
       "      <th>2002-06-16 21:00:00</th>\n",
       "      <td>NaN</td>\n",
       "      <td>0.28</td>\n",
       "      <td>NaN</td>\n",
       "      <td>0.07</td>\n",
       "      <td>NaN</td>\n",
       "      <td>32.720001</td>\n",
       "      <td>35.279999</td>\n",
       "      <td>73.650002</td>\n",
       "      <td>83.120003</td>\n",
       "      <td>4.61</td>\n",
       "      <td>1.33</td>\n",
       "      <td>NaN</td>\n",
       "    </tr>\n",
       "    <tr>\n",
       "      <th>2016-02-05 08:00:00</th>\n",
       "      <td>0.6</td>\n",
       "      <td>0.50</td>\n",
       "      <td>0.3</td>\n",
       "      <td>NaN</td>\n",
       "      <td>56.0</td>\n",
       "      <td>55.000000</td>\n",
       "      <td>NaN</td>\n",
       "      <td>2.000000</td>\n",
       "      <td>12.000000</td>\n",
       "      <td>5.00</td>\n",
       "      <td>NaN</td>\n",
       "      <td>2.0</td>\n",
       "    </tr>\n",
       "  </tbody>\n",
       "</table>\n",
       "</div>"
      ],
      "text/plain": [
       "                     BEN    CO  EBE  NMHC    NO       NO_2         NOx  \\\n",
       "date                                                                     \n",
       "2003-07-21 08:00:00  NaN  0.88  NaN  0.24   NaN  60.160000  103.800003   \n",
       "2009-10-06 02:00:00  NaN   NaN  NaN   NaN   NaN        NaN         NaN   \n",
       "2008-09-17 08:00:00  NaN  0.72  NaN   NaN   NaN  67.129997  127.199997   \n",
       "2002-06-16 21:00:00  NaN  0.28  NaN  0.07   NaN  32.720001   35.279999   \n",
       "2016-02-05 08:00:00  0.6  0.50  0.3   NaN  56.0  55.000000         NaN   \n",
       "\n",
       "                           O_3       PM10   SO_2   TCH  TOL  \n",
       "date                                                         \n",
       "2003-07-21 08:00:00   6.910000  48.490002  13.79  1.65  NaN  \n",
       "2009-10-06 02:00:00        NaN        NaN    NaN   NaN  NaN  \n",
       "2008-09-17 08:00:00   5.710000  43.869999   8.34   NaN  NaN  \n",
       "2002-06-16 21:00:00  73.650002  83.120003   4.61  1.33  NaN  \n",
       "2016-02-05 08:00:00   2.000000  12.000000   5.00   NaN  2.0  "
      ]
     },
     "execution_count": 36,
     "metadata": {},
     "output_type": "execute_result"
    }
   ],
   "source": [
    "print(df.shape)\n",
    "df.sample(5)"
   ]
  },
  {
   "cell_type": "code",
   "execution_count": 37,
   "id": "0bd387a7",
   "metadata": {},
   "outputs": [
    {
     "data": {
      "text/plain": [
       "BEN      79214\n",
       "CO         707\n",
       "EBE      79243\n",
       "NMHC    118297\n",
       "NO       86426\n",
       "NO_2       789\n",
       "NOx      59103\n",
       "O_3        693\n",
       "PM10      5681\n",
       "SO_2       740\n",
       "TCH     118319\n",
       "TOL      79433\n",
       "dtype: int64"
      ]
     },
     "execution_count": 37,
     "metadata": {},
     "output_type": "execute_result"
    }
   ],
   "source": [
    "df.isnull().sum()"
   ]
  },
  {
   "cell_type": "code",
   "execution_count": 38,
   "id": "52ef09ca",
   "metadata": {},
   "outputs": [
    {
     "data": {
      "text/plain": [
       "Index(['BEN', 'CO', 'EBE', 'NMHC', 'NO', 'NO_2', 'NOx', 'O_3', 'PM10', 'SO_2',\n",
       "       'TCH', 'TOL'],\n",
       "      dtype='object')"
      ]
     },
     "execution_count": 38,
     "metadata": {},
     "output_type": "execute_result"
    }
   ],
   "source": [
    "df.columns"
   ]
  },
  {
   "cell_type": "code",
   "execution_count": 39,
   "id": "c422761d",
   "metadata": {},
   "outputs": [],
   "source": [
    "import matplotlib.pyplot as plt\n",
    "import seaborn as sns\n",
    "import numpy as np"
   ]
  },
  {
   "cell_type": "code",
   "execution_count": 40,
   "id": "f1de8d31",
   "metadata": {},
   "outputs": [
    {
     "data": {
      "text/plain": [
       "<function matplotlib.pyplot.show(close=None, block=None)>"
      ]
     },
     "execution_count": 40,
     "metadata": {},
     "output_type": "execute_result"
    },
    {
     "data": {
      "image/png": "[encoded data removed]",
      "text/plain": [
       "<Figure size 1000x500 with 1 Axes>"
      ]
     },
     "metadata": {},
     "output_type": "display_data"
    }
   ],
   "source": [
    "pollutant_cols = ['BEN', 'CO', 'EBE', 'NMHC', 'NO_2', 'NOx', 'O_3', 'PM10', 'SO_2', 'TCH','TOL']\n",
    "plt.figure(figsize=(10,5))\n",
    "sns.boxplot(data=df[pollutant_cols])\n",
    "plt.xticks(rotation=45)\n",
    "plt.show"
   ]
  },
  {
   "cell_type": "code",
   "execution_count": 41,
   "id": "d5fa0f26",
   "metadata": {},
   "outputs": [
    {
     "name": "stdout",
     "output_type": "stream",
     "text": [
      "BEN        1\n",
      "CO      1083\n",
      "EBE        3\n",
      "NMHC     529\n",
      "NO         0\n",
      "NO_2       1\n",
      "NOx        1\n",
      "O_3        1\n",
      "PM10       4\n",
      "SO_2       1\n",
      "TCH        0\n",
      "TOL        0\n",
      "dtype: int64\n"
     ]
    }
   ],
   "source": [
    "print((df == 0).sum())"
   ]
  },
  {
   "cell_type": "code",
   "execution_count": 42,
   "id": "11ab30bc",
   "metadata": {},
   "outputs": [
    {
     "data": {
      "text/plain": [
       "BEN     0\n",
       "CO      0\n",
       "EBE     0\n",
       "NMHC    0\n",
       "NO      0\n",
       "NO_2    0\n",
       "NOx     0\n",
       "O_3     0\n",
       "PM10    0\n",
       "SO_2    0\n",
       "TCH     0\n",
       "TOL     0\n",
       "dtype: int64"
      ]
     },
     "execution_count": 42,
     "metadata": {},
     "output_type": "execute_result"
    }
   ],
   "source": [
    "df = df[~(df[pollutant_cols] == 0).any(axis=1)]\n",
    "(df == 0).sum()"
   ]
  },
  {
   "cell_type": "code",
   "execution_count": 43,
   "id": "12b4f909",
   "metadata": {},
   "outputs": [],
   "source": [
    "def cap(df,col):\n",
    "    q1 = df[col].quantile(0.25)\n",
    "    q3 = df[col].quantile(0.75)\n",
    "    iqr = q3 - q1 \n",
    "    \n",
    "    lower = q1 - 2*iqr\n",
    "    upper = q3 + 2*iqr\n",
    "    \n",
    "    df[col] = np.where(df[col]>upper,upper,np.where(df[col]<lower,lower,df[col]))\n",
    "    return df\n",
    "\n",
    "for col in pollutant_cols:\n",
    "    df = cap(df,col)"
   ]
  },
  {
   "cell_type": "code",
   "execution_count": 44,
   "id": "9a6e8612",
   "metadata": {},
   "outputs": [
    {
     "data": {
      "text/plain": [
       "<function matplotlib.pyplot.show(close=None, block=None)>"
      ]
     },
     "execution_count": 44,
     "metadata": {},
     "output_type": "execute_result"
    },
    {
     "data": {
      "image/png": "[encoded data removed]",
      "text/plain": [
       "<Figure size 1000x500 with 1 Axes>"
      ]
     },
     "metadata": {},
     "output_type": "display_data"
    }
   ],
   "source": [
    "# for col in pollutant_cols:\n",
    "#     df[col]=np.log1p(df[col])\n",
    "    \n",
    "plt.figure(figsize=(10,5))\n",
    "sns.boxplot(data=df[pollutant_cols])\n",
    "plt.xticks(rotation=45)\n",
    "plt.show"
   ]
  },
  {
   "cell_type": "code",
   "execution_count": 45,
   "id": "da543d8e",
   "metadata": {},
   "outputs": [
    {
     "data": {
      "text/plain": [
       "(148238, 12)"
      ]
     },
     "execution_count": 45,
     "metadata": {},
     "output_type": "execute_result"
    }
   ],
   "source": [
    "df.shape"
   ]
  },
  {
   "cell_type": "code",
   "execution_count": 46,
   "id": "b794cb0a",
   "metadata": {},
   "outputs": [
    {
     "data": {
      "text/plain": [
       "BEN      77698\n",
       "CO         707\n",
       "EBE      77727\n",
       "NMHC    118257\n",
       "NO       84910\n",
       "NO_2       788\n",
       "NOx      59096\n",
       "O_3        693\n",
       "PM10      5322\n",
       "SO_2       739\n",
       "TCH     118247\n",
       "TOL      77917\n",
       "dtype: int64"
      ]
     },
     "execution_count": 46,
     "metadata": {},
     "output_type": "execute_result"
    }
   ],
   "source": [
    "df.isnull().sum()"
   ]
  },
  {
   "cell_type": "code",
   "execution_count": 47,
   "id": "8de5870f",
   "metadata": {},
   "outputs": [
    {
     "name": "stdout",
     "output_type": "stream",
     "text": [
      "BEN     77698\n",
      "CO        707\n",
      "EBE     77727\n",
      "NO      84910\n",
      "NO_2      788\n",
      "NOx     59096\n",
      "O_3       693\n",
      "PM10     5322\n",
      "SO_2      739\n",
      "TOL     77917\n",
      "dtype: int64\n",
      "(148238, 10)\n"
     ]
    },
    {
     "data": {
      "text/plain": [
       "Index(['BEN', 'CO', 'EBE', 'NO', 'NO_2', 'NOx', 'O_3', 'PM10', 'SO_2', 'TOL'], dtype='object')"
      ]
     },
     "execution_count": 47,
     "metadata": {},
     "output_type": "execute_result"
    }
   ],
   "source": [
    "df = df.dropna(axis=1, thresh=len(df)*0.4)  # keep only cols with >=40% non-missing\n",
    "print(df.isnull().sum())\n",
    "print(df.shape)\n",
    "df.columns"
   ]
  },
  {
   "cell_type": "code",
   "execution_count": 48,
   "id": "3945ca0b",
   "metadata": {},
   "outputs": [
    {
     "name": "stdout",
     "output_type": "stream",
     "text": [
      "[0.40140564 1.51728449 1.85017838 2.75701772 0.91766706 1.11796413\n",
      " 0.31985276 1.44048949 1.21596219 0.97182879]\n",
      "['BEN', 'CO', 'EBE', 'NO', 'NO_2', 'NOx', 'O_3', 'PM10', 'SO_2', 'TOL']\n"
     ]
    }
   ],
   "source": [
    "from scipy.stats import skew\n",
    "pollutant_cols=['BEN', 'CO', 'EBE', 'NO', 'NO_2', 'NOx', 'O_3', 'PM10', 'SO_2', 'TOL']\n",
    "skewness_value = skew(df[pollutant_cols].dropna())\n",
    "print(skewness_value)\n",
    "print(pollutant_cols)"
   ]
  },
  {
   "cell_type": "code",
   "execution_count": 49,
   "id": "ae342a48",
   "metadata": {},
   "outputs": [
    {
     "name": "stderr",
     "output_type": "stream",
     "text": [
      "C:\\Users\\upman\\AppData\\Local\\Temp\\ipykernel_17644\\1989977171.py:9: FutureWarning: A value is trying to be set on a copy of a DataFrame or Series through chained assignment using an inplace method.\n",
      "The behavior will change in pandas 3.0. This inplace method will never work because the intermediate object on which we are setting values always behaves as a copy.\n",
      "\n",
      "For example, when doing 'df[col].method(value, inplace=True)', try using 'df.method({col: value}, inplace=True)' or df[col] = df[col].method(value) instead, to perform the operation inplace on the original object.\n",
      "\n",
      "\n",
      "  df[col].fillna(df[col].mean(), inplace=True)\n",
      "C:\\Users\\upman\\AppData\\Local\\Temp\\ipykernel_17644\\1989977171.py:7: FutureWarning: A value is trying to be set on a copy of a DataFrame or Series through chained assignment using an inplace method.\n",
      "The behavior will change in pandas 3.0. This inplace method will never work because the intermediate object on which we are setting values always behaves as a copy.\n",
      "\n",
      "For example, when doing 'df[col].method(value, inplace=True)', try using 'df.method({col: value}, inplace=True)' or df[col] = df[col].method(value) instead, to perform the operation inplace on the original object.\n",
      "\n",
      "\n",
      "  df[col].fillna(df[col].median(), inplace=True)\n",
      "C:\\Users\\upman\\AppData\\Local\\Temp\\ipykernel_17644\\1989977171.py:7: FutureWarning: A value is trying to be set on a copy of a DataFrame or Series through chained assignment using an inplace method.\n",
      "The behavior will change in pandas 3.0. This inplace method will never work because the intermediate object on which we are setting values always behaves as a copy.\n",
      "\n",
      "For example, when doing 'df[col].method(value, inplace=True)', try using 'df.method({col: value}, inplace=True)' or df[col] = df[col].method(value) instead, to perform the operation inplace on the original object.\n",
      "\n",
      "\n",
      "  df[col].fillna(df[col].median(), inplace=True)\n",
      "C:\\Users\\upman\\AppData\\Local\\Temp\\ipykernel_17644\\1989977171.py:7: FutureWarning: A value is trying to be set on a copy of a DataFrame or Series through chained assignment using an inplace method.\n",
      "The behavior will change in pandas 3.0. This inplace method will never work because the intermediate object on which we are setting values always behaves as a copy.\n",
      "\n",
      "For example, when doing 'df[col].method(value, inplace=True)', try using 'df.method({col: value}, inplace=True)' or df[col] = df[col].method(value) instead, to perform the operation inplace on the original object.\n",
      "\n",
      "\n",
      "  df[col].fillna(df[col].median(), inplace=True)\n",
      "C:\\Users\\upman\\AppData\\Local\\Temp\\ipykernel_17644\\1989977171.py:7: FutureWarning: A value is trying to be set on a copy of a DataFrame or Series through chained assignment using an inplace method.\n",
      "The behavior will change in pandas 3.0. This inplace method will never work because the intermediate object on which we are setting values always behaves as a copy.\n",
      "\n",
      "For example, when doing 'df[col].method(value, inplace=True)', try using 'df.method({col: value}, inplace=True)' or df[col] = df[col].method(value) instead, to perform the operation inplace on the original object.\n",
      "\n",
      "\n",
      "  df[col].fillna(df[col].median(), inplace=True)\n",
      "C:\\Users\\upman\\AppData\\Local\\Temp\\ipykernel_17644\\1989977171.py:7: FutureWarning: A value is trying to be set on a copy of a DataFrame or Series through chained assignment using an inplace method.\n",
      "The behavior will change in pandas 3.0. This inplace method will never work because the intermediate object on which we are setting values always behaves as a copy.\n",
      "\n",
      "For example, when doing 'df[col].method(value, inplace=True)', try using 'df.method({col: value}, inplace=True)' or df[col] = df[col].method(value) instead, to perform the operation inplace on the original object.\n",
      "\n",
      "\n",
      "  df[col].fillna(df[col].median(), inplace=True)\n",
      "C:\\Users\\upman\\AppData\\Local\\Temp\\ipykernel_17644\\1989977171.py:9: FutureWarning: A value is trying to be set on a copy of a DataFrame or Series through chained assignment using an inplace method.\n",
      "The behavior will change in pandas 3.0. This inplace method will never work because the intermediate object on which we are setting values always behaves as a copy.\n",
      "\n",
      "For example, when doing 'df[col].method(value, inplace=True)', try using 'df.method({col: value}, inplace=True)' or df[col] = df[col].method(value) instead, to perform the operation inplace on the original object.\n",
      "\n",
      "\n",
      "  df[col].fillna(df[col].mean(), inplace=True)\n",
      "C:\\Users\\upman\\AppData\\Local\\Temp\\ipykernel_17644\\1989977171.py:7: FutureWarning: A value is trying to be set on a copy of a DataFrame or Series through chained assignment using an inplace method.\n",
      "The behavior will change in pandas 3.0. This inplace method will never work because the intermediate object on which we are setting values always behaves as a copy.\n",
      "\n",
      "For example, when doing 'df[col].method(value, inplace=True)', try using 'df.method({col: value}, inplace=True)' or df[col] = df[col].method(value) instead, to perform the operation inplace on the original object.\n",
      "\n",
      "\n",
      "  df[col].fillna(df[col].median(), inplace=True)\n",
      "C:\\Users\\upman\\AppData\\Local\\Temp\\ipykernel_17644\\1989977171.py:7: FutureWarning: A value is trying to be set on a copy of a DataFrame or Series through chained assignment using an inplace method.\n",
      "The behavior will change in pandas 3.0. This inplace method will never work because the intermediate object on which we are setting values always behaves as a copy.\n",
      "\n",
      "For example, when doing 'df[col].method(value, inplace=True)', try using 'df.method({col: value}, inplace=True)' or df[col] = df[col].method(value) instead, to perform the operation inplace on the original object.\n",
      "\n",
      "\n",
      "  df[col].fillna(df[col].median(), inplace=True)\n",
      "C:\\Users\\upman\\AppData\\Local\\Temp\\ipykernel_17644\\1989977171.py:7: FutureWarning: A value is trying to be set on a copy of a DataFrame or Series through chained assignment using an inplace method.\n",
      "The behavior will change in pandas 3.0. This inplace method will never work because the intermediate object on which we are setting values always behaves as a copy.\n",
      "\n",
      "For example, when doing 'df[col].method(value, inplace=True)', try using 'df.method({col: value}, inplace=True)' or df[col] = df[col].method(value) instead, to perform the operation inplace on the original object.\n",
      "\n",
      "\n",
      "  df[col].fillna(df[col].median(), inplace=True)\n"
     ]
    },
    {
     "data": {
      "text/plain": [
       "BEN     0\n",
       "CO      0\n",
       "EBE     0\n",
       "NO      0\n",
       "NO_2    0\n",
       "NOx     0\n",
       "O_3     0\n",
       "PM10    0\n",
       "SO_2    0\n",
       "TOL     0\n",
       "dtype: int64"
      ]
     },
     "execution_count": 49,
     "metadata": {},
     "output_type": "execute_result"
    }
   ],
   "source": [
    "df_temp = df \n",
    "\n",
    "skewness = [0.40140564, 1.51728449, 1.85017838 ,2.75701772, 0.91766706, 1.11796413, 0.31985276, 1.44048949, 1.21596219, 0.97182879]\n",
    "\n",
    "for col, sk in zip(pollutant_cols, skewness):\n",
    "    if abs(sk) > 0.9:\n",
    "        df[col].fillna(df[col].median(), inplace=True)\n",
    "    else:\n",
    "        df[col].fillna(df[col].mean(), inplace=True)\n",
    "\n",
    "df.isnull().sum()"
   ]
  },
  {
   "cell_type": "code",
   "execution_count": 50,
   "id": "39fa86eb",
   "metadata": {},
   "outputs": [
    {
     "data": {
      "image/png": "[encoded data removed]",
      "text/plain": [
       "<Figure size 600x400 with 1 Axes>"
      ]
     },
     "metadata": {},
     "output_type": "display_data"
    },
    {
     "data": {
      "image/png": "[encoded data removed]",
      "text/plain": [
       "<Figure size 600x400 with 1 Axes>"
      ]
     },
     "metadata": {},
     "output_type": "display_data"
    },
    {
     "data": {
      "image/png": "[encoded data removed]",
      "text/plain": [
       "<Figure size 600x400 with 1 Axes>"
      ]
     },
     "metadata": {},
     "output_type": "display_data"
    },
    {
     "data": {
      "image/png": "[encoded data removed]",
      "text/plain": [
       "<Figure size 600x400 with 1 Axes>"
      ]
     },
     "metadata": {},
     "output_type": "display_data"
    },
    {
     "data": {
      "image/png": "[encoded data removed]",
      "text/plain": [
       "<Figure size 600x400 with 1 Axes>"
      ]
     },
     "metadata": {},
     "output_type": "display_data"
    },
    {
     "data": {
      "image/png": "[encoded data removed]",
      "text/plain": [
       "<Figure size 600x400 with 1 Axes>"
      ]
     },
     "metadata": {},
     "output_type": "display_data"
    },
    {
     "data": {
      "image/png": "[encoded data removed]",
      "text/plain": [
       "<Figure size 600x400 with 1 Axes>"
      ]
     },
     "metadata": {},
     "output_type": "display_data"
    },
    {
     "data": {
      "image/png": "[encoded data removed]",
      "text/plain": [
       "<Figure size 600x400 with 1 Axes>"
      ]
     },
     "metadata": {},
     "output_type": "display_data"
    },
    {
     "data": {
      "image/png": "[encoded data removed]",
      "text/plain": [
       "<Figure size 600x400 with 1 Axes>"
      ]
     },
     "metadata": {},
     "output_type": "display_data"
    },
    {
     "data": {
      "image/png": "[encoded data removed]",
      "text/plain": [
       "<Figure size 600x400 with 1 Axes>"
      ]
     },
     "metadata": {},
     "output_type": "display_data"
    }
   ],
   "source": [
    "import seaborn as sns\n",
    "\n",
    "for col in pollutant_cols:\n",
    "    plt.figure(figsize=(6,4))\n",
    "    sns.boxplot(y=df[col])\n",
    "    plt.title(col)\n",
    "    plt.show()"
   ]
  },
  {
   "cell_type": "code",
   "execution_count": 51,
   "id": "8594570c",
   "metadata": {},
   "outputs": [],
   "source": [
    "df=df.drop(columns=['TOL','NO','EBE'])"
   ]
  },
  {
   "cell_type": "code",
   "execution_count": 52,
   "id": "0c0526a9",
   "metadata": {},
   "outputs": [],
   "source": [
    "df.columns\n",
    "pollutant_cols=['BEN', 'CO','NO_2', 'NOx', 'O_3', 'PM10', 'SO_2']"
   ]
  },
  {
   "cell_type": "code",
   "execution_count": 53,
   "id": "dc10d7d7",
   "metadata": {},
   "outputs": [
    {
     "data": {
      "text/html": [
       "<div>\n",
       "<style scoped>\n",
       "    .dataframe tbody tr th:only-of-type {\n",
       "        vertical-align: middle;\n",
       "    }\n",
       "\n",
       "    .dataframe tbody tr th {\n",
       "        vertical-align: top;\n",
       "    }\n",
       "\n",
       "    .dataframe thead th {\n",
       "        text-align: right;\n",
       "    }\n",
       "</style>\n",
       "<table border=\"1\" class=\"dataframe\">\n",
       "  <thead>\n",
       "    <tr style=\"text-align: right;\">\n",
       "      <th></th>\n",
       "      <th>BEN</th>\n",
       "      <th>CO</th>\n",
       "      <th>NO_2</th>\n",
       "      <th>NOx</th>\n",
       "      <th>O_3</th>\n",
       "      <th>PM10</th>\n",
       "      <th>SO_2</th>\n",
       "    </tr>\n",
       "    <tr>\n",
       "      <th>date</th>\n",
       "      <th></th>\n",
       "      <th></th>\n",
       "      <th></th>\n",
       "      <th></th>\n",
       "      <th></th>\n",
       "      <th></th>\n",
       "      <th></th>\n",
       "    </tr>\n",
       "  </thead>\n",
       "  <tbody>\n",
       "    <tr>\n",
       "      <th>2001-08-01 01:00:00</th>\n",
       "      <td>0.321282</td>\n",
       "      <td>0.17</td>\n",
       "      <td>28.980000</td>\n",
       "      <td>31.480000</td>\n",
       "      <td>48.290001</td>\n",
       "      <td>78.680000</td>\n",
       "      <td>7.73</td>\n",
       "    </tr>\n",
       "    <tr>\n",
       "      <th>2001-08-01 02:00:00</th>\n",
       "      <td>0.321282</td>\n",
       "      <td>0.14</td>\n",
       "      <td>26.959999</td>\n",
       "      <td>28.830000</td>\n",
       "      <td>49.310001</td>\n",
       "      <td>78.680000</td>\n",
       "      <td>7.64</td>\n",
       "    </tr>\n",
       "    <tr>\n",
       "      <th>2001-08-01 03:00:00</th>\n",
       "      <td>0.321282</td>\n",
       "      <td>0.15</td>\n",
       "      <td>25.350000</td>\n",
       "      <td>26.840000</td>\n",
       "      <td>50.759998</td>\n",
       "      <td>62.320000</td>\n",
       "      <td>7.74</td>\n",
       "    </tr>\n",
       "    <tr>\n",
       "      <th>2001-08-01 04:00:00</th>\n",
       "      <td>0.321282</td>\n",
       "      <td>0.16</td>\n",
       "      <td>24.440001</td>\n",
       "      <td>26.010000</td>\n",
       "      <td>52.459999</td>\n",
       "      <td>55.009998</td>\n",
       "      <td>7.71</td>\n",
       "    </tr>\n",
       "    <tr>\n",
       "      <th>2001-08-01 05:00:00</th>\n",
       "      <td>0.321282</td>\n",
       "      <td>0.19</td>\n",
       "      <td>26.030001</td>\n",
       "      <td>27.600000</td>\n",
       "      <td>55.540001</td>\n",
       "      <td>58.830002</td>\n",
       "      <td>7.83</td>\n",
       "    </tr>\n",
       "    <tr>\n",
       "      <th>2001-08-01 06:00:00</th>\n",
       "      <td>0.321282</td>\n",
       "      <td>0.19</td>\n",
       "      <td>22.879999</td>\n",
       "      <td>24.190001</td>\n",
       "      <td>60.849998</td>\n",
       "      <td>44.700001</td>\n",
       "      <td>7.57</td>\n",
       "    </tr>\n",
       "  </tbody>\n",
       "</table>\n",
       "</div>"
      ],
      "text/plain": [
       "                          BEN    CO       NO_2        NOx        O_3  \\\n",
       "date                                                                   \n",
       "2001-08-01 01:00:00  0.321282  0.17  28.980000  31.480000  48.290001   \n",
       "2001-08-01 02:00:00  0.321282  0.14  26.959999  28.830000  49.310001   \n",
       "2001-08-01 03:00:00  0.321282  0.15  25.350000  26.840000  50.759998   \n",
       "2001-08-01 04:00:00  0.321282  0.16  24.440001  26.010000  52.459999   \n",
       "2001-08-01 05:00:00  0.321282  0.19  26.030001  27.600000  55.540001   \n",
       "2001-08-01 06:00:00  0.321282  0.19  22.879999  24.190001  60.849998   \n",
       "\n",
       "                          PM10  SO_2  \n",
       "date                                  \n",
       "2001-08-01 01:00:00  78.680000  7.73  \n",
       "2001-08-01 02:00:00  78.680000  7.64  \n",
       "2001-08-01 03:00:00  62.320000  7.74  \n",
       "2001-08-01 04:00:00  55.009998  7.71  \n",
       "2001-08-01 05:00:00  58.830002  7.83  \n",
       "2001-08-01 06:00:00  44.700001  7.57  "
      ]
     },
     "execution_count": 53,
     "metadata": {},
     "output_type": "execute_result"
    }
   ],
   "source": [
    "Q1 = df['NOx'].quantile(0.25)\n",
    "Q3 = df['NOx'].quantile(0.75)\n",
    "IQR = Q3 - Q1\n",
    "lower_bound = Q1 - 2 * IQR\n",
    "upper_bound = Q3 + 2 * IQR\n",
    "df['NOx'] = np.where(df['NOx'] > upper_bound, upper_bound,\n",
    "              np.where(df['NOx'] < lower_bound, lower_bound, df['NOx']))\n",
    "df.head(6)"
   ]
  },
  {
   "cell_type": "code",
   "execution_count": 54,
   "id": "3fdcebea",
   "metadata": {},
   "outputs": [
    {
     "data": {
      "text/plain": [
       "<function matplotlib.pyplot.show(close=None, block=None)>"
      ]
     },
     "execution_count": 54,
     "metadata": {},
     "output_type": "execute_result"
    },
    {
     "data": {
      "image/png": "[encoded data removed]",
      "text/plain": [
       "<Figure size 1000x500 with 1 Axes>"
      ]
     },
     "metadata": {},
     "output_type": "display_data"
    }
   ],
   "source": [
    "plt.figure(figsize=(10,5))\n",
    "sns.boxplot(data=df[pollutant_cols])\n",
    "plt.xticks(rotation=45)\n",
    "plt.show"
   ]
  },
  {
   "cell_type": "code",
   "execution_count": 55,
   "id": "80ba1614",
   "metadata": {},
   "outputs": [
    {
     "name": "stdout",
     "output_type": "stream",
     "text": [
      "994\n",
      "0\n"
     ]
    }
   ],
   "source": [
    "print(df.duplicated().sum())\n",
    "df = df.drop_duplicates()\n",
    "print(df.duplicated().sum())"
   ]
  },
  {
   "cell_type": "code",
   "execution_count": null,
   "id": "349858ac",
   "metadata": {},
   "outputs": [],
   "source": [
    "#Feature Enginnering for regression\n",
    "df_reg = df.copy()\n",
    "# Vehicles → NOx, CO, some SO₂, + PM10 directly.\n",
    "# Industries → SO₂, NOx, + PM10 directly.\n",
    "# PM10 → dono ka combined impact + extra dust sources.\n",
    "df_reg[\"CO_m_NOx\"]  = df_reg[\"CO\"]  - df_reg[\"NOx\"]\n",
    "df_reg[\"NO2_m_NOx\"] = df_reg[\"NO_2\"]- df_reg[\"NOx\"]\n",
    "df_reg[\"O3_m_NOx\"]  = df_reg[\"O_3\"] - df_reg[\"NOx\"]\n",
    "df_reg[\"SO2_m_NOx\"] = df_reg[\"SO_2\"]- df_reg[\"NOx\"]\n",
    "df_reg[\"BEN_m_NOx\"] = df_reg[\"BEN\"]- df_reg[\"NOx\"]\n",
    "#NOx dono mein common he \n",
    "#NOx ek traffic-related pollutant hai, aur PM10 bhi mostly traffic + dust sources se linked hota hai. \n",
    "#Agar tum bas raw pollutants lete ho (CO, NO₂, O₃, SO₂, NOx), toh model ko relation dhoondhna thoda “spread out” hoga."
   ]
  },
  {
   "cell_type": "code",
   "execution_count": null,
   "id": "e76fbc1e",
   "metadata": {},
   "outputs": [],
   "source": [
    "#pollutants ke combination bana rahe ho jo research literature mein air-quality ke liye kaafi common hai.\n",
    "df_reg[\"OX\"] = np.log1p(np.expm1(df_reg[\"O_3\"]) + np.expm1(df_reg[\"NO_2\"]))   #OX index = O₃ + NO₂\n",
    "#np.expm1() (reverse log) #Fir np.log1p() use karke dobara log-scale pe\n",
    "df_reg[\"COMB\"] = np.log1p(np.expm1(df_reg[\"CO\"]) + np.expm1(df_reg[\"NOx\"]) + np.expm1(df_reg[\"SO_2\"]))\n",
    "#CO, NOx, SO₂  # industrial+vehicle\n",
    "df_reg.head(6)"
   ]
  },
  {
   "cell_type": "code",
   "execution_count": null,
   "id": "2c78703f",
   "metadata": {},
   "outputs": [],
   "source": [
    "df_reg.index = pd.to_datetime(df_reg.index)\n",
    "df_reg['date_code'] = df_reg.index.year - df_reg.index.year.min() + 1\n",
    "df_reg = df_reg.reset_index()\n",
    "df_reg.sample(6)"
   ]
  },
  {
   "cell_type": "code",
   "execution_count": null,
   "id": "1e5b4bb0",
   "metadata": {},
   "outputs": [],
   "source": [
    "pollutant_cols"
   ]
  },
  {
   "cell_type": "code",
   "execution_count": null,
   "id": "42d378d4",
   "metadata": {},
   "outputs": [],
   "source": [
    "from sklearn.model_selection import GroupShuffleSplit\n",
    "df_reg = df_reg.drop(columns=['date','BEN', 'CO', 'NO_2', 'NOx', 'O_3', 'SO_2'])\n",
    "groups = df_reg[\"date_code\"]\n",
    "splitter = GroupShuffleSplit(n_splits=1, test_size=0.33, random_state=1)\n",
    "train_idx, test_idx = next(splitter.split(df_reg, groups=groups))\n",
    "df_train = df_reg.iloc[train_idx]\n",
    "df_test  = df_reg.iloc[test_idx]"
   ]
  },
  {
   "cell_type": "code",
   "execution_count": null,
   "id": "3592a0f4",
   "metadata": {},
   "outputs": [],
   "source": [
    "df_train.columns"
   ]
  },
  {
   "cell_type": "code",
   "execution_count": null,
   "id": "c76d6986",
   "metadata": {},
   "outputs": [],
   "source": [
    "from sklearn.linear_model import LinearRegression\n",
    "X_train = df_train.drop(columns=[\"PM10\"])\n",
    "y_train = df_train[\"PM10\"]\n",
    "X_test = df_test.drop(columns=[\"PM10\"])\n",
    "y_test = df_test[\"PM10\"]\n",
    "\n",
    "from sklearn.model_selection import cross_val_score\n",
    "\n",
    "lin_reg=LinearRegression()\n",
    "lin_reg.fit(X_train,y_train)\n",
    "mse = cross_val_score(lin_reg,X_train,y_train,scoring='neg_mean_squared_error',cv=5)\n",
    "print(\"MSE: \",mse)\n",
    "print(\"MSE Mean: \",mse.mean())"
   ]
  },
  {
   "cell_type": "code",
   "execution_count": null,
   "id": "e7de80a8",
   "metadata": {},
   "outputs": [],
   "source": [
    "y_pred = lin_reg.predict(X_test)\n",
    "from sklearn.metrics import r2_score\n",
    "\n",
    "r2_score1=r2_score(y_test, y_pred)\n",
    "\n",
    "print(r2_score1)"
   ]
  },
  {
   "cell_type": "code",
   "execution_count": null,
   "id": "9a13f150",
   "metadata": {},
   "outputs": [],
   "source": [
    "ridge = Ridge()\n",
    "params = {'alpha': [1e-15,1e-10,1e-8,1e-5,1e-4,1e-3,1e-2,1,5,10,20,30,35,40,45,50,55,60,75,80,100,125,130,150,200,300,400,450,500,550,600]}\n",
    "ridge_regressor = GridSearchCV(ridge, params, scoring='neg_mean_squared_error', cv=5)\n",
    "ridge_regressor.fit(X_train, y_train)\n",
    "\n",
    "print(\"Best Alpha:\", ridge_regressor.best_params_)\n",
    "print(\"Best Score:\", ridge_regressor.best_score_)"
   ]
  },
  {
   "cell_type": "code",
   "execution_count": null,
   "id": "8ad08fe4",
   "metadata": {},
   "outputs": [],
   "source": [
    "from sklearn.linear_model import Lasso\n",
    "\n",
    "lasso = Lasso(max_iter=10000)\n",
    "\n",
    "params = {\"alpha\": [1e-29,1e-22,1e-21,1e-20,1e-18,1e-17,1e-16,1e-15, 1e-10, 1e-8, 1e-5, 1e-3, 1e-2,\n",
    "                    1, 5, 10, 20, 50, 100, 200, 500]}\n",
    "\n",
    "lasso_cv = GridSearchCV(lasso, params, scoring=\"neg_mean_squared_error\", cv=5)\n",
    "lasso_cv.fit(X_train, y_train)\n",
    "\n",
    "print(\"Best Alpha:\", lasso_cv.best_params_[\"alpha\"])\n",
    "print(\"Best CV Score:\", lasso_cv.best_score_)"
   ]
  },
  {
   "cell_type": "code",
   "execution_count": null,
   "id": "9c5939c0",
   "metadata": {},
   "outputs": [],
   "source": [
    "from sklearn.neighbors import KNeighborsRegressor\n",
    "from sklearn.model_selection import cross_val_score\n",
    "from sklearn.metrics import r2_score\n",
    "\n",
    "# Features and target\n",
    "X_train = df_train.drop(columns=[\"PM10\"])\n",
    "y_train = df_train[\"PM10\"]\n",
    "X_test = df_test.drop(columns=[\"PM10\"])\n",
    "y_test = df_test[\"PM10\"]\n",
    "\n",
    "# KNN model\n",
    "knn = KNeighborsRegressor(n_neighbors=5)  # default 5 neighbors\n",
    "knn.fit(X_train, y_train)\n",
    "\n",
    "# Cross-validation (MSE)\n",
    "mse = cross_val_score(knn, X_train, y_train, scoring='neg_mean_squared_error', cv=5)\n",
    "print(\"MSE: \", mse)\n",
    "print(\"MSE Mean: \", mse.mean())\n",
    "\n",
    "# Predictions & R² score\n",
    "y_pred = knn.predict(X_test)\n",
    "r2_score1 = r2_score(y_test, y_pred)\n",
    "print(\"R2 Score:\", r2_score1)"
   ]
  },
  {
   "cell_type": "code",
   "execution_count": null,
   "id": "f90481ce-9ae7-488d-97c4-f7ac7124e441",
   "metadata": {},
   "outputs": [],
   "source": [
    "!pip install xgboost"
   ]
  },
  {
   "cell_type": "code",
   "execution_count": null,
   "id": "50a5a7e2-7e32-4ccc-9190-bfe8c3082225",
   "metadata": {},
   "outputs": [],
   "source": [
    "from xgboost import XGBRegressor\n",
    "\n",
    "xgb_reg = XGBRegressor(\n",
    "    n_estimators=50,\n",
    "    learning_rate=0.1,\n",
    "    max_depth=5,\n",
    "    random_state=1,      \n",
    "    n_jobs=-1\n",
    ")\n",
    "xgb_reg.fit(X_train, y_train)\n",
    "mse = cross_val_score(xgb_reg, X_train, y_train,\n",
    "                      scoring='neg_mean_squared_error',\n",
    "                      cv=5)\n",
    "\n",
    "print(\"MSE (each fold): \", mse)\n",
    "print(\"MSE Mean: \", mse.mean())\n",
    "\n",
    "print(\"MAE: \", mean_absolute_error(y_test, y_pred))"
   ]
  },
  {
   "cell_type": "code",
   "execution_count": null,
   "id": "2064127b-d7b1-471f-bf92-009b08070b08",
   "metadata": {},
   "outputs": [],
   "source": [
    "from sklearn.ensemble import RandomForestRegressor\n",
    "\n",
    "rf_reg = RandomForestRegressor(\n",
    "    n_estimators=100,\n",
    "    max_depth=10, \n",
    "    random_state=1,\n",
    "    n_jobs=-1\n",
    ")\n",
    "\n",
    "rf_reg.fit(X_train, y_train)\n",
    "mse = cross_val_score(rf_reg, X_train, y_train,\n",
    "                      scoring='neg_mean_squared_error',\n",
    "                      cv=5)\n",
    "\n",
    "print(\"MSE (each fold): \", mse)\n",
    "print(\"MSE Mean: \", mse.mean())\n",
    "\n",
    "y_pred = rf_reg.predict(X_test)\n",
    "print(\"MAE: \", mean_absolute_error(y_test, y_pred))\n"
   ]
  },
  {
   "cell_type": "code",
   "execution_count": null,
   "id": "85ec5ea6",
   "metadata": {},
   "outputs": [],
   "source": [
    "y_pred = ridge_regressor.predict(X_test)\n",
    "r2_score1=r2_score(y_test, y_pred)\n",
    "print(r2_score1)"
   ]
  },
  {
   "cell_type": "code",
   "execution_count": null,
   "id": "7fe66f21",
   "metadata": {},
   "outputs": [],
   "source": [
    "y_pred = lasso_cv.predict(X_test)\n",
    "r2_score1=r2_score(y_test,y_pred)\n",
    "print(r2_score1)"
   ]
  },
  {
   "cell_type": "code",
   "execution_count": null,
   "id": "e7396f30-8d83-4676-b1dd-e1f6e692866d",
   "metadata": {},
   "outputs": [],
   "source": [
    "y_pred = rf_reg.predict(X_test)\n",
    "r2_score1=r2_score(y_test, y_pred)\n",
    "print(\"Rf: \",r2_score1)"
   ]
  },
  {
   "cell_type": "code",
   "execution_count": null,
   "id": "dd015b23",
   "metadata": {},
   "outputs": [],
   "source": [
    "y_pred = xgb_reg.predict(X_test)\n",
    "r2_score1=r2_score(y_test, y_pred)\n",
    "print(\"Xg: \",r2_score1)"
   ]
  },
  {
   "cell_type": "markdown",
   "id": "48361513",
   "metadata": {},
   "source": [
    "Classification Problem"
   ]
  },
  {
   "cell_type": "code",
   "execution_count": 56,
   "id": "23380644",
   "metadata": {},
   "outputs": [],
   "source": [
    "df_master=df"
   ]
  },
  {
   "cell_type": "code",
   "execution_count": 83,
   "id": "12b60f3a",
   "metadata": {},
   "outputs": [
    {
     "name": "stdout",
     "output_type": "stream",
     "text": [
      "(147244, 7)\n"
     ]
    },
    {
     "data": {
      "text/html": [
       "<div>\n",
       "<style scoped>\n",
       "    .dataframe tbody tr th:only-of-type {\n",
       "        vertical-align: middle;\n",
       "    }\n",
       "\n",
       "    .dataframe tbody tr th {\n",
       "        vertical-align: top;\n",
       "    }\n",
       "\n",
       "    .dataframe thead th {\n",
       "        text-align: right;\n",
       "    }\n",
       "</style>\n",
       "<table border=\"1\" class=\"dataframe\">\n",
       "  <thead>\n",
       "    <tr style=\"text-align: right;\">\n",
       "      <th></th>\n",
       "      <th>BEN</th>\n",
       "      <th>CO</th>\n",
       "      <th>NO_2</th>\n",
       "      <th>NOx</th>\n",
       "      <th>O_3</th>\n",
       "      <th>PM10</th>\n",
       "      <th>SO_2</th>\n",
       "    </tr>\n",
       "    <tr>\n",
       "      <th>date</th>\n",
       "      <th></th>\n",
       "      <th></th>\n",
       "      <th></th>\n",
       "      <th></th>\n",
       "      <th></th>\n",
       "      <th></th>\n",
       "      <th></th>\n",
       "    </tr>\n",
       "  </thead>\n",
       "  <tbody>\n",
       "    <tr>\n",
       "      <th>2001-01-29 17:00:00</th>\n",
       "      <td>0.321282</td>\n",
       "      <td>1.25</td>\n",
       "      <td>36.000000</td>\n",
       "      <td>50.889999</td>\n",
       "      <td>14.56</td>\n",
       "      <td>13.120000</td>\n",
       "      <td>23.54</td>\n",
       "    </tr>\n",
       "    <tr>\n",
       "      <th>2011-03-21 03:00:00</th>\n",
       "      <td>0.200000</td>\n",
       "      <td>0.20</td>\n",
       "      <td>20.000000</td>\n",
       "      <td>50.889999</td>\n",
       "      <td>69.00</td>\n",
       "      <td>10.000000</td>\n",
       "      <td>7.00</td>\n",
       "    </tr>\n",
       "    <tr>\n",
       "      <th>2010-05-06 03:00:00</th>\n",
       "      <td>0.200000</td>\n",
       "      <td>0.19</td>\n",
       "      <td>17.410000</td>\n",
       "      <td>22.090000</td>\n",
       "      <td>95.25</td>\n",
       "      <td>9.580000</td>\n",
       "      <td>9.11</td>\n",
       "    </tr>\n",
       "    <tr>\n",
       "      <th>2012-05-02 12:00:00</th>\n",
       "      <td>0.200000</td>\n",
       "      <td>0.40</td>\n",
       "      <td>18.000000</td>\n",
       "      <td>50.889999</td>\n",
       "      <td>57.00</td>\n",
       "      <td>11.000000</td>\n",
       "      <td>3.00</td>\n",
       "    </tr>\n",
       "    <tr>\n",
       "      <th>2007-10-08 10:00:00</th>\n",
       "      <td>0.321282</td>\n",
       "      <td>0.82</td>\n",
       "      <td>67.730003</td>\n",
       "      <td>109.180000</td>\n",
       "      <td>7.75</td>\n",
       "      <td>50.889999</td>\n",
       "      <td>14.71</td>\n",
       "    </tr>\n",
       "  </tbody>\n",
       "</table>\n",
       "</div>"
      ],
      "text/plain": [
       "                          BEN    CO       NO_2         NOx    O_3       PM10  \\\n",
       "date                                                                           \n",
       "2001-01-29 17:00:00  0.321282  1.25  36.000000   50.889999  14.56  13.120000   \n",
       "2011-03-21 03:00:00  0.200000  0.20  20.000000   50.889999  69.00  10.000000   \n",
       "2010-05-06 03:00:00  0.200000  0.19  17.410000   22.090000  95.25   9.580000   \n",
       "2012-05-02 12:00:00  0.200000  0.40  18.000000   50.889999  57.00  11.000000   \n",
       "2007-10-08 10:00:00  0.321282  0.82  67.730003  109.180000   7.75  50.889999   \n",
       "\n",
       "                      SO_2  \n",
       "date                        \n",
       "2001-01-29 17:00:00  23.54  \n",
       "2011-03-21 03:00:00   7.00  \n",
       "2010-05-06 03:00:00   9.11  \n",
       "2012-05-02 12:00:00   3.00  \n",
       "2007-10-08 10:00:00  14.71  "
      ]
     },
     "execution_count": 83,
     "metadata": {},
     "output_type": "execute_result"
    }
   ],
   "source": [
    "df=df_master\n",
    "print(df.shape)\n",
    "df.sample(5)"
   ]
  },
  {
   "cell_type": "code",
   "execution_count": 84,
   "id": "c8df687e",
   "metadata": {},
   "outputs": [
    {
     "data": {
      "text/plain": [
       "Index(['BEN', 'CO', 'NO_2', 'NOx', 'O_3', 'PM10', 'SO_2'], dtype='object')"
      ]
     },
     "execution_count": 84,
     "metadata": {},
     "output_type": "execute_result"
    }
   ],
   "source": [
    "df.columns"
   ]
  },
  {
   "cell_type": "code",
   "execution_count": 85,
   "id": "47b5dcde",
   "metadata": {},
   "outputs": [],
   "source": [
    "pollutants = ['BEN','CO','NO_2','NOx','O_3','PM10','SO_2']\n",
    "from sklearn.preprocessing import MinMaxScaler\n",
    "\n",
    "# --- scale 0-1\n",
    "scaler = MinMaxScaler()\n",
    "df_classi = pd.DataFrame(scaler.fit_transform(df[pollutants]), \n",
    "                         columns=pollutants, index=df.index)"
   ]
  },
  {
   "cell_type": "code",
   "execution_count": 86,
   "id": "8af5a1ad",
   "metadata": {},
   "outputs": [],
   "source": [
    "# pehle avg_score nikal liya jaise tum kar rahe the\n",
    "df_classi['avg_score'] = df_classi.mean(axis=1)\n",
    "\n",
    "# quantile thresholds nikalte h\n",
    "q1 = df_classi['avg_score'].quantile(0.25)\n",
    "q2 = df_classi['avg_score'].quantile(0.70)\n",
    "\n",
    "# function banate h\n",
    "def avg_quantile(x):\n",
    "    if x <= q1:\n",
    "        return \"Good\"\n",
    "    elif x <= q2:\n",
    "        return \"Okay\"\n",
    "    else:\n",
    "        return \"Bad\"\n",
    "\n",
    "df_classi['AQI_demo'] = df_classi['avg_score'].apply(avg_quantile)"
   ]
  },
  {
   "cell_type": "code",
   "execution_count": 87,
   "id": "c2366a25",
   "metadata": {},
   "outputs": [
    {
     "data": {
      "text/plain": [
       "AQI_demo\n",
       "Okay    66260\n",
       "Bad     44173\n",
       "Good    36811\n",
       "Name: count, dtype: int64"
      ]
     },
     "execution_count": 87,
     "metadata": {},
     "output_type": "execute_result"
    }
   ],
   "source": [
    "df_classi['AQI_demo'].value_counts()"
   ]
  },
  {
   "cell_type": "code",
   "execution_count": 88,
   "id": "c3bd2d98",
   "metadata": {},
   "outputs": [
    {
     "data": {
      "text/html": [
       "<div>\n",
       "<style scoped>\n",
       "    .dataframe tbody tr th:only-of-type {\n",
       "        vertical-align: middle;\n",
       "    }\n",
       "\n",
       "    .dataframe tbody tr th {\n",
       "        vertical-align: top;\n",
       "    }\n",
       "\n",
       "    .dataframe thead th {\n",
       "        text-align: right;\n",
       "    }\n",
       "</style>\n",
       "<table border=\"1\" class=\"dataframe\">\n",
       "  <thead>\n",
       "    <tr style=\"text-align: right;\">\n",
       "      <th></th>\n",
       "      <th>BEN</th>\n",
       "      <th>CO</th>\n",
       "      <th>NO_2</th>\n",
       "      <th>NOx</th>\n",
       "      <th>O_3</th>\n",
       "      <th>PM10</th>\n",
       "      <th>SO_2</th>\n",
       "      <th>avg_score</th>\n",
       "      <th>AQI_demo</th>\n",
       "    </tr>\n",
       "    <tr>\n",
       "      <th>date</th>\n",
       "      <th></th>\n",
       "      <th></th>\n",
       "      <th></th>\n",
       "      <th></th>\n",
       "      <th></th>\n",
       "      <th></th>\n",
       "      <th></th>\n",
       "      <th></th>\n",
       "      <th></th>\n",
       "    </tr>\n",
       "  </thead>\n",
       "  <tbody>\n",
       "    <tr>\n",
       "      <th>2008-10-29 13:00:00</th>\n",
       "      <td>0.316118</td>\n",
       "      <td>0.135338</td>\n",
       "      <td>0.110994</td>\n",
       "      <td>0.201511</td>\n",
       "      <td>0.309026</td>\n",
       "      <td>0.097201</td>\n",
       "      <td>0.088575</td>\n",
       "      <td>0.179823</td>\n",
       "      <td>Good</td>\n",
       "    </tr>\n",
       "    <tr>\n",
       "      <th>2016-02-07 19:00:00</th>\n",
       "      <td>0.142857</td>\n",
       "      <td>0.218045</td>\n",
       "      <td>0.254622</td>\n",
       "      <td>0.462913</td>\n",
       "      <td>0.267420</td>\n",
       "      <td>0.066769</td>\n",
       "      <td>0.121095</td>\n",
       "      <td>0.219103</td>\n",
       "      <td>Good</td>\n",
       "    </tr>\n",
       "    <tr>\n",
       "      <th>2003-05-30 03:00:00</th>\n",
       "      <td>0.316118</td>\n",
       "      <td>0.210526</td>\n",
       "      <td>0.207073</td>\n",
       "      <td>0.291993</td>\n",
       "      <td>0.370149</td>\n",
       "      <td>0.685157</td>\n",
       "      <td>0.490372</td>\n",
       "      <td>0.367341</td>\n",
       "      <td>Okay</td>\n",
       "    </tr>\n",
       "    <tr>\n",
       "      <th>2007-07-16 16:00:00</th>\n",
       "      <td>0.316118</td>\n",
       "      <td>0.112782</td>\n",
       "      <td>0.069398</td>\n",
       "      <td>0.110569</td>\n",
       "      <td>0.407617</td>\n",
       "      <td>0.517463</td>\n",
       "      <td>0.189987</td>\n",
       "      <td>0.246276</td>\n",
       "      <td>Okay</td>\n",
       "    </tr>\n",
       "    <tr>\n",
       "      <th>2015-09-05 21:00:00</th>\n",
       "      <td>0.142857</td>\n",
       "      <td>0.142857</td>\n",
       "      <td>0.219608</td>\n",
       "      <td>0.462913</td>\n",
       "      <td>0.491108</td>\n",
       "      <td>0.259373</td>\n",
       "      <td>0.078306</td>\n",
       "      <td>0.256718</td>\n",
       "      <td>Okay</td>\n",
       "    </tr>\n",
       "  </tbody>\n",
       "</table>\n",
       "</div>"
      ],
      "text/plain": [
       "                          BEN        CO      NO_2       NOx       O_3  \\\n",
       "date                                                                    \n",
       "2008-10-29 13:00:00  0.316118  0.135338  0.110994  0.201511  0.309026   \n",
       "2016-02-07 19:00:00  0.142857  0.218045  0.254622  0.462913  0.267420   \n",
       "2003-05-30 03:00:00  0.316118  0.210526  0.207073  0.291993  0.370149   \n",
       "2007-07-16 16:00:00  0.316118  0.112782  0.069398  0.110569  0.407617   \n",
       "2015-09-05 21:00:00  0.142857  0.142857  0.219608  0.462913  0.491108   \n",
       "\n",
       "                         PM10      SO_2  avg_score AQI_demo  \n",
       "date                                                         \n",
       "2008-10-29 13:00:00  0.097201  0.088575   0.179823     Good  \n",
       "2016-02-07 19:00:00  0.066769  0.121095   0.219103     Good  \n",
       "2003-05-30 03:00:00  0.685157  0.490372   0.367341     Okay  \n",
       "2007-07-16 16:00:00  0.517463  0.189987   0.246276     Okay  \n",
       "2015-09-05 21:00:00  0.259373  0.078306   0.256718     Okay  "
      ]
     },
     "execution_count": 88,
     "metadata": {},
     "output_type": "execute_result"
    }
   ],
   "source": [
    "df_classi.sample(5)"
   ]
  },
  {
   "cell_type": "code",
   "execution_count": null,
   "id": "a7096e1d",
   "metadata": {},
   "outputs": [
    {
     "data": {
      "text/html": [
       "<style>#sk-container-id-1 {\n",
       "  /* Definition of color scheme common for light and dark mode */\n",
       "  --sklearn-color-text: black;\n",
       "  --sklearn-color-line: gray;\n",
       "  /* Definition of color scheme for unfitted estimators */\n",
       "  --sklearn-color-unfitted-level-0: #fff5e6;\n",
       "  --sklearn-color-unfitted-level-1: #f6e4d2;\n",
       "  --sklearn-color-unfitted-level-2: #ffe0b3;\n",
       "  --sklearn-color-unfitted-level-3: chocolate;\n",
       "  /* Definition of color scheme for fitted estimators */\n",
       "  --sklearn-color-fitted-level-0: #f0f8ff;\n",
       "  --sklearn-color-fitted-level-1: #d4ebff;\n",
       "  --sklearn-color-fitted-level-2: #b3dbfd;\n",
       "  --sklearn-color-fitted-level-3: cornflowerblue;\n",
       "\n",
       "  /* Specific color for light theme */\n",
       "  --sklearn-color-text-on-default-background: var(--sg-text-color, var(--theme-code-foreground, var(--jp-content-font-color1, black)));\n",
       "  --sklearn-color-background: var(--sg-background-color, var(--theme-background, var(--jp-layout-color0, white)));\n",
       "  --sklearn-color-border-box: var(--sg-text-color, var(--theme-code-foreground, var(--jp-content-font-color1, black)));\n",
       "  --sklearn-color-icon: #696969;\n",
       "\n",
       "  @media (prefers-color-scheme: dark) {\n",
       "    /* Redefinition of color scheme for dark theme */\n",
       "    --sklearn-color-text-on-default-background: var(--sg-text-color, var(--theme-code-foreground, var(--jp-content-font-color1, white)));\n",
       "    --sklearn-color-background: var(--sg-background-color, var(--theme-background, var(--jp-layout-color0, #111)));\n",
       "    --sklearn-color-border-box: var(--sg-text-color, var(--theme-code-foreground, var(--jp-content-font-color1, white)));\n",
       "    --sklearn-color-icon: #878787;\n",
       "  }\n",
       "}\n",
       "\n",
       "#sk-container-id-1 {\n",
       "  color: var(--sklearn-color-text);\n",
       "}\n",
       "\n",
       "#sk-container-id-1 pre {\n",
       "  padding: 0;\n",
       "}\n",
       "\n",
       "#sk-container-id-1 input.sk-hidden--visually {\n",
       "  border: 0;\n",
       "  clip: rect(1px 1px 1px 1px);\n",
       "  clip: rect(1px, 1px, 1px, 1px);\n",
       "  height: 1px;\n",
       "  margin: -1px;\n",
       "  overflow: hidden;\n",
       "  padding: 0;\n",
       "  position: absolute;\n",
       "  width: 1px;\n",
       "}\n",
       "\n",
       "#sk-container-id-1 div.sk-dashed-wrapped {\n",
       "  border: 1px dashed var(--sklearn-color-line);\n",
       "  margin: 0 0.4em 0.5em 0.4em;\n",
       "  box-sizing: border-box;\n",
       "  padding-bottom: 0.4em;\n",
       "  background-color: var(--sklearn-color-background);\n",
       "}\n",
       "\n",
       "#sk-container-id-1 div.sk-container {\n",
       "  /* jupyter's `normalize.less` sets `[hidden] { display: none; }`\n",
       "     but bootstrap.min.css set `[hidden] { display: none !important; }`\n",
       "     so we also need the `!important` here to be able to override the\n",
       "     default hidden behavior on the sphinx rendered scikit-learn.org.\n",
       "     See: https://github.com/scikit-learn/scikit-learn/issues/21755 */\n",
       "  display: inline-block !important;\n",
       "  position: relative;\n",
       "}\n",
       "\n",
       "#sk-container-id-1 div.sk-text-repr-fallback {\n",
       "  display: none;\n",
       "}\n",
       "\n",
       "div.sk-parallel-item,\n",
       "div.sk-serial,\n",
       "div.sk-item {\n",
       "  /* draw centered vertical line to link estimators */\n",
       "  background-image: linear-gradient(var(--sklearn-color-text-on-default-background), var(--sklearn-color-text-on-default-background));\n",
       "  background-size: 2px 100%;\n",
       "  background-repeat: no-repeat;\n",
       "  background-position: center center;\n",
       "}\n",
       "\n",
       "/* Parallel-specific style estimator block */\n",
       "\n",
       "#sk-container-id-1 div.sk-parallel-item::after {\n",
       "  content: \"\";\n",
       "  width: 100%;\n",
       "  border-bottom: 2px solid var(--sklearn-color-text-on-default-background);\n",
       "  flex-grow: 1;\n",
       "}\n",
       "\n",
       "#sk-container-id-1 div.sk-parallel {\n",
       "  display: flex;\n",
       "  align-items: stretch;\n",
       "  justify-content: center;\n",
       "  background-color: var(--sklearn-color-background);\n",
       "  position: relative;\n",
       "}\n",
       "\n",
       "#sk-container-id-1 div.sk-parallel-item {\n",
       "  display: flex;\n",
       "  flex-direction: column;\n",
       "}\n",
       "\n",
       "#sk-container-id-1 div.sk-parallel-item:first-child::after {\n",
       "  align-self: flex-end;\n",
       "  width: 50%;\n",
       "}\n",
       "\n",
       "#sk-container-id-1 div.sk-parallel-item:last-child::after {\n",
       "  align-self: flex-start;\n",
       "  width: 50%;\n",
       "}\n",
       "\n",
       "#sk-container-id-1 div.sk-parallel-item:only-child::after {\n",
       "  width: 0;\n",
       "}\n",
       "\n",
       "/* Serial-specific style estimator block */\n",
       "\n",
       "#sk-container-id-1 div.sk-serial {\n",
       "  display: flex;\n",
       "  flex-direction: column;\n",
       "  align-items: center;\n",
       "  background-color: var(--sklearn-color-background);\n",
       "  padding-right: 1em;\n",
       "  padding-left: 1em;\n",
       "}\n",
       "\n",
       "\n",
       "/* Toggleable style: style used for estimator/Pipeline/ColumnTransformer box that is\n",
       "clickable and can be expanded/collapsed.\n",
       "- Pipeline and ColumnTransformer use this feature and define the default style\n",
       "- Estimators will overwrite some part of the style using the `sk-estimator` class\n",
       "*/\n",
       "\n",
       "/* Pipeline and ColumnTransformer style (default) */\n",
       "\n",
       "#sk-container-id-1 div.sk-toggleable {\n",
       "  /* Default theme specific background. It is overwritten whether we have a\n",
       "  specific estimator or a Pipeline/ColumnTransformer */\n",
       "  background-color: var(--sklearn-color-background);\n",
       "}\n",
       "\n",
       "/* Toggleable label */\n",
       "#sk-container-id-1 label.sk-toggleable__label {\n",
       "  cursor: pointer;\n",
       "  display: block;\n",
       "  width: 100%;\n",
       "  margin-bottom: 0;\n",
       "  padding: 0.5em;\n",
       "  box-sizing: border-box;\n",
       "  text-align: center;\n",
       "}\n",
       "\n",
       "#sk-container-id-1 label.sk-toggleable__label-arrow:before {\n",
       "  /* Arrow on the left of the label */\n",
       "  content: \"▸\";\n",
       "  float: left;\n",
       "  margin-right: 0.25em;\n",
       "  color: var(--sklearn-color-icon);\n",
       "}\n",
       "\n",
       "#sk-container-id-1 label.sk-toggleable__label-arrow:hover:before {\n",
       "  color: var(--sklearn-color-text);\n",
       "}\n",
       "\n",
       "/* Toggleable content - dropdown */\n",
       "\n",
       "#sk-container-id-1 div.sk-toggleable__content {\n",
       "  max-height: 0;\n",
       "  max-width: 0;\n",
       "  overflow: hidden;\n",
       "  text-align: left;\n",
       "  /* unfitted */\n",
       "  background-color: var(--sklearn-color-unfitted-level-0);\n",
       "}\n",
       "\n",
       "#sk-container-id-1 div.sk-toggleable__content.fitted {\n",
       "  /* fitted */\n",
       "  background-color: var(--sklearn-color-fitted-level-0);\n",
       "}\n",
       "\n",
       "#sk-container-id-1 div.sk-toggleable__content pre {\n",
       "  margin: 0.2em;\n",
       "  border-radius: 0.25em;\n",
       "  color: var(--sklearn-color-text);\n",
       "  /* unfitted */\n",
       "  background-color: var(--sklearn-color-unfitted-level-0);\n",
       "}\n",
       "\n",
       "#sk-container-id-1 div.sk-toggleable__content.fitted pre {\n",
       "  /* unfitted */\n",
       "  background-color: var(--sklearn-color-fitted-level-0);\n",
       "}\n",
       "\n",
       "#sk-container-id-1 input.sk-toggleable__control:checked~div.sk-toggleable__content {\n",
       "  /* Expand drop-down */\n",
       "  max-height: 200px;\n",
       "  max-width: 100%;\n",
       "  overflow: auto;\n",
       "}\n",
       "\n",
       "#sk-container-id-1 input.sk-toggleable__control:checked~label.sk-toggleable__label-arrow:before {\n",
       "  content: \"▾\";\n",
       "}\n",
       "\n",
       "/* Pipeline/ColumnTransformer-specific style */\n",
       "\n",
       "#sk-container-id-1 div.sk-label input.sk-toggleable__control:checked~label.sk-toggleable__label {\n",
       "  color: var(--sklearn-color-text);\n",
       "  background-color: var(--sklearn-color-unfitted-level-2);\n",
       "}\n",
       "\n",
       "#sk-container-id-1 div.sk-label.fitted input.sk-toggleable__control:checked~label.sk-toggleable__label {\n",
       "  background-color: var(--sklearn-color-fitted-level-2);\n",
       "}\n",
       "\n",
       "/* Estimator-specific style */\n",
       "\n",
       "/* Colorize estimator box */\n",
       "#sk-container-id-1 div.sk-estimator input.sk-toggleable__control:checked~label.sk-toggleable__label {\n",
       "  /* unfitted */\n",
       "  background-color: var(--sklearn-color-unfitted-level-2);\n",
       "}\n",
       "\n",
       "#sk-container-id-1 div.sk-estimator.fitted input.sk-toggleable__control:checked~label.sk-toggleable__label {\n",
       "  /* fitted */\n",
       "  background-color: var(--sklearn-color-fitted-level-2);\n",
       "}\n",
       "\n",
       "#sk-container-id-1 div.sk-label label.sk-toggleable__label,\n",
       "#sk-container-id-1 div.sk-label label {\n",
       "  /* The background is the default theme color */\n",
       "  color: var(--sklearn-color-text-on-default-background);\n",
       "}\n",
       "\n",
       "/* On hover, darken the color of the background */\n",
       "#sk-container-id-1 div.sk-label:hover label.sk-toggleable__label {\n",
       "  color: var(--sklearn-color-text);\n",
       "  background-color: var(--sklearn-color-unfitted-level-2);\n",
       "}\n",
       "\n",
       "/* Label box, darken color on hover, fitted */\n",
       "#sk-container-id-1 div.sk-label.fitted:hover label.sk-toggleable__label.fitted {\n",
       "  color: var(--sklearn-color-text);\n",
       "  background-color: var(--sklearn-color-fitted-level-2);\n",
       "}\n",
       "\n",
       "/* Estimator label */\n",
       "\n",
       "#sk-container-id-1 div.sk-label label {\n",
       "  font-family: monospace;\n",
       "  font-weight: bold;\n",
       "  display: inline-block;\n",
       "  line-height: 1.2em;\n",
       "}\n",
       "\n",
       "#sk-container-id-1 div.sk-label-container {\n",
       "  text-align: center;\n",
       "}\n",
       "\n",
       "/* Estimator-specific */\n",
       "#sk-container-id-1 div.sk-estimator {\n",
       "  font-family: monospace;\n",
       "  border: 1px dotted var(--sklearn-color-border-box);\n",
       "  border-radius: 0.25em;\n",
       "  box-sizing: border-box;\n",
       "  margin-bottom: 0.5em;\n",
       "  /* unfitted */\n",
       "  background-color: var(--sklearn-color-unfitted-level-0);\n",
       "}\n",
       "\n",
       "#sk-container-id-1 div.sk-estimator.fitted {\n",
       "  /* fitted */\n",
       "  background-color: var(--sklearn-color-fitted-level-0);\n",
       "}\n",
       "\n",
       "/* on hover */\n",
       "#sk-container-id-1 div.sk-estimator:hover {\n",
       "  /* unfitted */\n",
       "  background-color: var(--sklearn-color-unfitted-level-2);\n",
       "}\n",
       "\n",
       "#sk-container-id-1 div.sk-estimator.fitted:hover {\n",
       "  /* fitted */\n",
       "  background-color: var(--sklearn-color-fitted-level-2);\n",
       "}\n",
       "\n",
       "/* Specification for estimator info (e.g. \"i\" and \"?\") */\n",
       "\n",
       "/* Common style for \"i\" and \"?\" */\n",
       "\n",
       ".sk-estimator-doc-link,\n",
       "a:link.sk-estimator-doc-link,\n",
       "a:visited.sk-estimator-doc-link {\n",
       "  float: right;\n",
       "  font-size: smaller;\n",
       "  line-height: 1em;\n",
       "  font-family: monospace;\n",
       "  background-color: var(--sklearn-color-background);\n",
       "  border-radius: 1em;\n",
       "  height: 1em;\n",
       "  width: 1em;\n",
       "  text-decoration: none !important;\n",
       "  margin-left: 1ex;\n",
       "  /* unfitted */\n",
       "  border: var(--sklearn-color-unfitted-level-1) 1pt solid;\n",
       "  color: var(--sklearn-color-unfitted-level-1);\n",
       "}\n",
       "\n",
       ".sk-estimator-doc-link.fitted,\n",
       "a:link.sk-estimator-doc-link.fitted,\n",
       "a:visited.sk-estimator-doc-link.fitted {\n",
       "  /* fitted */\n",
       "  border: var(--sklearn-color-fitted-level-1) 1pt solid;\n",
       "  color: var(--sklearn-color-fitted-level-1);\n",
       "}\n",
       "\n",
       "/* On hover */\n",
       "div.sk-estimator:hover .sk-estimator-doc-link:hover,\n",
       ".sk-estimator-doc-link:hover,\n",
       "div.sk-label-container:hover .sk-estimator-doc-link:hover,\n",
       ".sk-estimator-doc-link:hover {\n",
       "  /* unfitted */\n",
       "  background-color: var(--sklearn-color-unfitted-level-3);\n",
       "  color: var(--sklearn-color-background);\n",
       "  text-decoration: none;\n",
       "}\n",
       "\n",
       "div.sk-estimator.fitted:hover .sk-estimator-doc-link.fitted:hover,\n",
       ".sk-estimator-doc-link.fitted:hover,\n",
       "div.sk-label-container:hover .sk-estimator-doc-link.fitted:hover,\n",
       ".sk-estimator-doc-link.fitted:hover {\n",
       "  /* fitted */\n",
       "  background-color: var(--sklearn-color-fitted-level-3);\n",
       "  color: var(--sklearn-color-background);\n",
       "  text-decoration: none;\n",
       "}\n",
       "\n",
       "/* Span, style for the box shown on hovering the info icon */\n",
       ".sk-estimator-doc-link span {\n",
       "  display: none;\n",
       "  z-index: 9999;\n",
       "  position: relative;\n",
       "  font-weight: normal;\n",
       "  right: .2ex;\n",
       "  padding: .5ex;\n",
       "  margin: .5ex;\n",
       "  width: min-content;\n",
       "  min-width: 20ex;\n",
       "  max-width: 50ex;\n",
       "  color: var(--sklearn-color-text);\n",
       "  box-shadow: 2pt 2pt 4pt #999;\n",
       "  /* unfitted */\n",
       "  background: var(--sklearn-color-unfitted-level-0);\n",
       "  border: .5pt solid var(--sklearn-color-unfitted-level-3);\n",
       "}\n",
       "\n",
       ".sk-estimator-doc-link.fitted span {\n",
       "  /* fitted */\n",
       "  background: var(--sklearn-color-fitted-level-0);\n",
       "  border: var(--sklearn-color-fitted-level-3);\n",
       "}\n",
       "\n",
       ".sk-estimator-doc-link:hover span {\n",
       "  display: block;\n",
       "}\n",
       "\n",
       "/* \"?\"-specific style due to the `<a>` HTML tag */\n",
       "\n",
       "#sk-container-id-1 a.estimator_doc_link {\n",
       "  float: right;\n",
       "  font-size: 1rem;\n",
       "  line-height: 1em;\n",
       "  font-family: monospace;\n",
       "  background-color: var(--sklearn-color-background);\n",
       "  border-radius: 1rem;\n",
       "  height: 1rem;\n",
       "  width: 1rem;\n",
       "  text-decoration: none;\n",
       "  /* unfitted */\n",
       "  color: var(--sklearn-color-unfitted-level-1);\n",
       "  border: var(--sklearn-color-unfitted-level-1) 1pt solid;\n",
       "}\n",
       "\n",
       "#sk-container-id-1 a.estimator_doc_link.fitted {\n",
       "  /* fitted */\n",
       "  border: var(--sklearn-color-fitted-level-1) 1pt solid;\n",
       "  color: var(--sklearn-color-fitted-level-1);\n",
       "}\n",
       "\n",
       "/* On hover */\n",
       "#sk-container-id-1 a.estimator_doc_link:hover {\n",
       "  /* unfitted */\n",
       "  background-color: var(--sklearn-color-unfitted-level-3);\n",
       "  color: var(--sklearn-color-background);\n",
       "  text-decoration: none;\n",
       "}\n",
       "\n",
       "#sk-container-id-1 a.estimator_doc_link.fitted:hover {\n",
       "  /* fitted */\n",
       "  background-color: var(--sklearn-color-fitted-level-3);\n",
       "}\n",
       "</style><div id=\"sk-container-id-1\" class=\"sk-top-container\"><div class=\"sk-text-repr-fallback\"><pre>GridSearchCV(cv=5, estimator=LogisticRegression(),\n",
       "             param_grid=[{&#x27;C&#x27;: [1, 5, 10]}, {&#x27;max_iter&#x27;: [100, 150]}],\n",
       "             scoring=&#x27;f1_macro&#x27;)</pre><b>In a Jupyter environment, please rerun this cell to show the HTML representation or trust the notebook. <br />On GitHub, the HTML representation is unable to render, please try loading this page with nbviewer.org.</b></div><div class=\"sk-container\" hidden><div class=\"sk-item sk-dashed-wrapped\"><div class=\"sk-label-container\"><div class=\"sk-label fitted sk-toggleable\"><input class=\"sk-toggleable__control sk-hidden--visually\" id=\"sk-estimator-id-1\" type=\"checkbox\" ><label for=\"sk-estimator-id-1\" class=\"sk-toggleable__label fitted sk-toggleable__label-arrow fitted\">&nbsp;&nbsp;GridSearchCV<a class=\"sk-estimator-doc-link fitted\" rel=\"noreferrer\" target=\"_blank\" href=\"https://scikit-learn.org/1.5/modules/generated/sklearn.model_selection.GridSearchCV.html\">?<span>Documentation for GridSearchCV</span></a><span class=\"sk-estimator-doc-link fitted\">i<span>Fitted</span></span></label><div class=\"sk-toggleable__content fitted\"><pre>GridSearchCV(cv=5, estimator=LogisticRegression(),\n",
       "             param_grid=[{&#x27;C&#x27;: [1, 5, 10]}, {&#x27;max_iter&#x27;: [100, 150]}],\n",
       "             scoring=&#x27;f1_macro&#x27;)</pre></div> </div></div><div class=\"sk-parallel\"><div class=\"sk-parallel-item\"><div class=\"sk-item\"><div class=\"sk-label-container\"><div class=\"sk-label fitted sk-toggleable\"><input class=\"sk-toggleable__control sk-hidden--visually\" id=\"sk-estimator-id-2\" type=\"checkbox\" ><label for=\"sk-estimator-id-2\" class=\"sk-toggleable__label fitted sk-toggleable__label-arrow fitted\">best_estimator_: LogisticRegression</label><div class=\"sk-toggleable__content fitted\"><pre>LogisticRegression(C=5)</pre></div> </div></div><div class=\"sk-serial\"><div class=\"sk-item\"><div class=\"sk-estimator fitted sk-toggleable\"><input class=\"sk-toggleable__control sk-hidden--visually\" id=\"sk-estimator-id-3\" type=\"checkbox\" ><label for=\"sk-estimator-id-3\" class=\"sk-toggleable__label fitted sk-toggleable__label-arrow fitted\">&nbsp;LogisticRegression<a class=\"sk-estimator-doc-link fitted\" rel=\"noreferrer\" target=\"_blank\" href=\"https://scikit-learn.org/1.5/modules/generated/sklearn.linear_model.LogisticRegression.html\">?<span>Documentation for LogisticRegression</span></a></label><div class=\"sk-toggleable__content fitted\"><pre>LogisticRegression(C=5)</pre></div> </div></div></div></div></div></div></div></div></div>"
      ],
      "text/plain": [
       "GridSearchCV(cv=5, estimator=LogisticRegression(),\n",
       "             param_grid=[{'C': [1, 5, 10]}, {'max_iter': [100, 150]}],\n",
       "             scoring='f1_macro')"
      ]
     },
     "execution_count": 90,
     "metadata": {},
     "output_type": "execute_result"
    }
   ],
   "source": [
    "import pandas as pd\n",
    "from sklearn.linear_model import LogisticRegression\n",
    "from sklearn.model_selection import train_test_split, GridSearchCV\n",
    "from sklearn.metrics import f1_score\n",
    "\n",
    "# Your dataset\n",
    "X = df_classi.drop(columns=[\"AQI_demo\"]) # drop index/column with date-time\n",
    "y = df_classi[\"AQI_demo\"]                     # Good / Okay / Bad\n",
    "\n",
    "# Train-test split\n",
    "X_train, X_test, y_train, y_test = train_test_split(\n",
    "    X, y, test_size=0.33, random_state=1, stratify=y\n",
    ")\n"
   ]
  },
  {
   "cell_type": "code",
   "execution_count": null,
   "id": "3d01b553",
   "metadata": {},
   "outputs": [],
   "source": [
    "# Params for GridSearch\n",
    "params = [\n",
    "    {'C': [1, 5, 10]},\n",
    "    {'max_iter': [100, 150]}\n",
    "]\n",
    "\n",
    "# Model without fixed C\n",
    "model1 = LogisticRegression()\n",
    "\n",
    "# GridSearchCV\n",
    "model = GridSearchCV(model1, param_grid=params, scoring='f1_macro', cv=5)\n",
    "model.fit(X_train, y_train)"
   ]
  },
  {
   "cell_type": "code",
   "execution_count": 91,
   "id": "02772346",
   "metadata": {},
   "outputs": [
    {
     "name": "stdout",
     "output_type": "stream",
     "text": [
      "{'C': 5}\n",
      "0.9981719722960944\n"
     ]
    }
   ],
   "source": [
    "print(model.best_params_)\n",
    "print(model.best_score_)\n",
    "y_pred=model.predict(X_test)"
   ]
  },
  {
   "cell_type": "code",
   "execution_count": 92,
   "id": "7904981b",
   "metadata": {},
   "outputs": [
    {
     "data": {
      "text/plain": [
       "array([[14530,     0,    47],\n",
       "       [    0, 12135,    13],\n",
       "       [   20,    23, 21823]])"
      ]
     },
     "execution_count": 92,
     "metadata": {},
     "output_type": "execute_result"
    }
   ],
   "source": [
    "from sklearn.metrics import confusion_matrix,classification_report\n",
    "confusion_matrix(y_test,y_pred)"
   ]
  },
  {
   "cell_type": "code",
   "execution_count": 93,
   "id": "ef8216fe",
   "metadata": {},
   "outputs": [
    {
     "data": {
      "text/plain": [
       "0.9978802658928608"
      ]
     },
     "execution_count": 93,
     "metadata": {},
     "output_type": "execute_result"
    }
   ],
   "source": [
    "from sklearn.metrics import accuracy_score\n",
    "accuracy_score(y_test,y_pred)"
   ]
  },
  {
   "cell_type": "code",
   "execution_count": null,
   "id": "6b269960",
   "metadata": {},
   "outputs": [
    {
     "name": "stdout",
     "output_type": "stream",
     "text": [
      "\n",
      "--- KNN ---\n",
      "{'n_neighbors': 7}\n",
      "0.9707164177675462\n",
      "Accuracy: 0.9729991150624602\n",
      "[[14240     0   337]\n",
      " [    0 11810   338]\n",
      " [  200   437 21229]]\n",
      "              precision    recall  f1-score   support\n",
      "\n",
      "         Bad       0.99      0.98      0.98     14577\n",
      "        Good       0.96      0.97      0.97     12148\n",
      "        Okay       0.97      0.97      0.97     21866\n",
      "\n",
      "    accuracy                           0.97     48591\n",
      "   macro avg       0.97      0.97      0.97     48591\n",
      "weighted avg       0.97      0.97      0.97     48591\n",
      "\n"
     ]
    }
   ],
   "source": [
    "import pandas as pd\n",
    "from sklearn.model_selection import train_test_split, GridSearchCV\n",
    "from sklearn.metrics import accuracy_score, confusion_matrix, classification_report\n",
    "from sklearn.neighbors import KNeighborsClassifier\n",
    "from sklearn.tree import DecisionTreeClassifier\n",
    "from sklearn.ensemble import RandomForestClassifier\n",
    "from xgboost import XGBClassifier\n",
    "\n",
    "# 1. KNN\n",
    "params_knn = {'n_neighbors': [3, 5, 7]}\n",
    "model_knn = GridSearchCV(KNeighborsClassifier(), param_grid=params_knn, scoring='f1_macro', cv=5)\n",
    "model_knn.fit(X_train, y_train)\n",
    "print(\"\\n--- KNN ---\")\n",
    "print(model_knn.best_params_)\n",
    "print(model_knn.best_score_)\n",
    "y_pred = model_knn.predict(X_test)\n",
    "print(\"Accuracy:\", accuracy_score(y_test, y_pred))\n",
    "print(confusion_matrix(y_test, y_pred))"
   ]
  },
  {
   "cell_type": "code",
   "execution_count": null,
   "id": "bfa585cb",
   "metadata": {},
   "outputs": [
    {
     "name": "stdout",
     "output_type": "stream",
     "text": [
      "\n",
      "--- Decision Tree (gini) ---\n",
      "{'max_depth': 5}\n",
      "1.0\n",
      "Accuracy: 0.9999794200572122\n",
      "[[14577     0     0]\n",
      " [    0 12148     0]\n",
      " [    1     0 21865]]\n",
      "              precision    recall  f1-score   support\n",
      "\n",
      "         Bad       1.00      1.00      1.00     14577\n",
      "        Good       1.00      1.00      1.00     12148\n",
      "        Okay       1.00      1.00      1.00     21866\n",
      "\n",
      "    accuracy                           1.00     48591\n",
      "   macro avg       1.00      1.00      1.00     48591\n",
      "weighted avg       1.00      1.00      1.00     48591\n",
      "\n"
     ]
    }
   ],
   "source": [
    "\n",
    "# 2. Decision Tree (gini)\n",
    "params_dt = {'max_depth': [5, 10, 15]}\n",
    "model_dt_gini = GridSearchCV(DecisionTreeClassifier(criterion=\"gini\"), param_grid=params_dt, scoring='f1_macro', cv=5)\n",
    "model_dt_gini.fit(X_train, y_train)\n",
    "print(\"\\n--- Decision Tree (gini) ---\")\n",
    "print(model_dt_gini.best_params_)\n",
    "print(model_dt_gini.best_score_)\n",
    "y_pred = model_dt_gini.predict(X_test)\n",
    "print(\"Accuracy:\", accuracy_score(y_test, y_pred))\n",
    "print(confusion_matrix(y_test, y_pred))"
   ]
  },
  {
   "cell_type": "code",
   "execution_count": null,
   "id": "bcf63c58",
   "metadata": {},
   "outputs": [
    {
     "name": "stdout",
     "output_type": "stream",
     "text": [
      "\n",
      "--- Decision Tree (entropy) ---\n",
      "{'max_depth': 5}\n",
      "1.0\n",
      "Accuracy: 0.9999794200572122\n",
      "[[14577     0     0]\n",
      " [    0 12148     0]\n",
      " [    1     0 21865]]\n",
      "              precision    recall  f1-score   support\n",
      "\n",
      "         Bad       1.00      1.00      1.00     14577\n",
      "        Good       1.00      1.00      1.00     12148\n",
      "        Okay       1.00      1.00      1.00     21866\n",
      "\n",
      "    accuracy                           1.00     48591\n",
      "   macro avg       1.00      1.00      1.00     48591\n",
      "weighted avg       1.00      1.00      1.00     48591\n",
      "\n"
     ]
    }
   ],
   "source": [
    "\n",
    "# 3. Decision Tree (entropy)\n",
    "model_dt_entropy = GridSearchCV(DecisionTreeClassifier(criterion=\"entropy\"), param_grid=params_dt, scoring='f1_macro', cv=5)\n",
    "model_dt_entropy.fit(X_train, y_train)\n",
    "print(\"\\n--- Decision Tree (entropy) ---\")\n",
    "print(model_dt_entropy.best_params_)\n",
    "print(model_dt_entropy.best_score_)\n",
    "y_pred = model_dt_entropy.predict(X_test)\n",
    "print(\"Accuracy:\", accuracy_score(y_test, y_pred))\n",
    "print(confusion_matrix(y_test, y_pred))"
   ]
  },
  {
   "cell_type": "code",
   "execution_count": null,
   "id": "a92f198d",
   "metadata": {},
   "outputs": [
    {
     "name": "stdout",
     "output_type": "stream",
     "text": [
      "\n",
      "--- Random Forest ---\n",
      "{'max_depth': 10, 'n_estimators': 50}\n",
      "0.9999789744799926\n",
      "Accuracy: 0.9999588401144245\n",
      "[[14577     0     0]\n",
      " [    0 12147     1]\n",
      " [    1     0 21865]]\n",
      "              precision    recall  f1-score   support\n",
      "\n",
      "         Bad       1.00      1.00      1.00     14577\n",
      "        Good       1.00      1.00      1.00     12148\n",
      "        Okay       1.00      1.00      1.00     21866\n",
      "\n",
      "    accuracy                           1.00     48591\n",
      "   macro avg       1.00      1.00      1.00     48591\n",
      "weighted avg       1.00      1.00      1.00     48591\n",
      "\n"
     ]
    }
   ],
   "source": [
    "\n",
    "# 4. Random Forest\n",
    "params_rf = {'n_estimators': [50, 100], 'max_depth': [5, 10]}\n",
    "model_rf = GridSearchCV(RandomForestClassifier(), param_grid=params_rf, scoring='f1_macro', cv=5)\n",
    "model_rf.fit(X_train, y_train)\n",
    "print(\"\\n--- Random Forest ---\")\n",
    "print(model_rf.best_params_)\n",
    "print(model_rf.best_score_)\n",
    "y_pred = model_rf.predict(X_test)\n",
    "print(\"Accuracy:\", accuracy_score(y_test, y_pred))\n",
    "print(confusion_matrix(y_test, y_pred))"
   ]
  },
  {
   "cell_type": "code",
   "execution_count": null,
   "id": "a8f5f80a",
   "metadata": {},
   "outputs": [],
   "source": []
  }
 ],
 "metadata": {
  "kernelspec": {
   "display_name": "Python 3",
   "language": "python",
   "name": "python3"
  },
  "language_info": {
   "codemirror_mode": {
    "name": "ipython",
    "version": 3
   },
   "file_extension": ".py",
   "mimetype": "text/x-python",
   "name": "python",
   "nbconvert_exporter": "python",
   "pygments_lexer": "ipython3",
   "version": "3.10.2"
  }
 },
 "nbformat": 4,
 "nbformat_minor": 5
}
